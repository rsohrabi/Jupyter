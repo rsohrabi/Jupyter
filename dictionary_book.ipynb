{
 "cells": [
  {
   "cell_type": "code",
   "execution_count": 1,
   "metadata": {
    "collapsed": true
   },
   "outputs": [],
   "source": [
    "# dictionary\n",
    "customer1 = { 'Name': 'tom tom', 'Gender': 'Male', 'Nationality': 'US', 'car': 'Ford escort' }"
   ]
  },
  {
   "cell_type": "code",
   "execution_count": 2,
   "metadata": {},
   "outputs": [
    {
     "data": {
      "text/plain": [
       "'tom tom'"
      ]
     },
     "execution_count": 2,
     "metadata": {},
     "output_type": "execute_result"
    }
   ],
   "source": [
    "customer1['car']\n",
    "customer1['Name']"
   ]
  },
  {
   "cell_type": "code",
   "execution_count": 3,
   "metadata": {},
   "outputs": [
    {
     "name": "stdout",
     "output_type": "stream",
     "text": [
      "enter a sentenceThe Fat rat chased the cat.\n"
     ]
    },
    {
     "data": {
      "text/plain": [
       "'The Fat rat chased the cat.'"
      ]
     },
     "execution_count": 3,
     "metadata": {},
     "output_type": "execute_result"
    }
   ],
   "source": [
    "#use dictionary to cound vowels\n",
    "vowels= ['a', 'e', 'i', 'o', 'u']\n",
    "sentence = input('enter a sentence')\n",
    "sentence"
   ]
  },
  {
   "cell_type": "code",
   "execution_count": 5,
   "metadata": {
    "collapsed": true
   },
   "outputs": [],
   "source": [
    "#use dictionry to hold vowel count\n",
    "vowel_count={}\n",
    "vowel_count['a']=0\n",
    "vowel_count['e']=0\n",
    "vowel_count['i']=0\n",
    "vowel_count['o']=0\n",
    "vowel_count['u']=0"
   ]
  },
  {
   "cell_type": "code",
   "execution_count": 6,
   "metadata": {
    "collapsed": true
   },
   "outputs": [],
   "source": [
    "for ch in list(sentence):\n",
    "    if ch in vowels:\n",
    "        vowel_count[ch] += 1\n",
    "        "
   ]
  },
  {
   "cell_type": "code",
   "execution_count": 7,
   "metadata": {},
   "outputs": [
    {
     "data": {
      "text/plain": [
       "{'a': 4, 'e': 3, 'i': 0, 'o': 0, 'u': 0}"
      ]
     },
     "execution_count": 7,
     "metadata": {},
     "output_type": "execute_result"
    }
   ],
   "source": [
    "vowel_count"
   ]
  },
  {
   "cell_type": "code",
   "execution_count": 10,
   "metadata": {},
   "outputs": [
    {
     "name": "stdout",
     "output_type": "stream",
     "text": [
      "frequency for a : 4\n",
      "frequency for e : 3\n",
      "frequency for i : 0\n",
      "frequency for o : 0\n",
      "frequency for u : 0\n"
     ]
    }
   ],
   "source": [
    "for k,v in sorted(vowel_count.items()):\n",
    "    print('frequency for %s : %i' % (k,v) )"
   ]
  },
  {
   "cell_type": "code",
   "execution_count": 11,
   "metadata": {},
   "outputs": [
    {
     "name": "stdout",
     "output_type": "stream",
     "text": [
      "Once deleted, variables cannot be recovered. Proceed (y/[n])? y\n"
     ]
    }
   ],
   "source": [
    "#use %reset to flush all previous values\n",
    "%reset\n"
   ]
  },
  {
   "cell_type": "code",
   "execution_count": 12,
   "metadata": {},
   "outputs": [
    {
     "name": "stdout",
     "output_type": "stream",
     "text": [
      "enter a sentenceThe fat cat eat the rat!\n"
     ]
    },
    {
     "data": {
      "text/plain": [
       "'The fat cat eat the rat!'"
      ]
     },
     "execution_count": 12,
     "metadata": {},
     "output_type": "execute_result"
    }
   ],
   "source": [
    "vowels= ['a', 'e', 'i', 'o', 'u']\n",
    "sentence = input('enter a sentence')\n",
    "sentence"
   ]
  },
  {
   "cell_type": "code",
   "execution_count": 16,
   "metadata": {},
   "outputs": [],
   "source": [
    "vowel_count={}\n",
    "for ch in list(sentence):\n",
    "    if ch in vowels:\n",
    "        vowel_count.setdefault(ch, 0)\n",
    "        vowel_count[ch] += 1"
   ]
  },
  {
   "cell_type": "code",
   "execution_count": 17,
   "metadata": {},
   "outputs": [
    {
     "data": {
      "text/plain": [
       "{'a': 4, 'e': 3}"
      ]
     },
     "execution_count": 17,
     "metadata": {},
     "output_type": "execute_result"
    }
   ],
   "source": [
    "vowel_count"
   ]
  },
  {
   "cell_type": "code",
   "execution_count": 20,
   "metadata": {},
   "outputs": [],
   "source": [
    "#make dictionary of dictonary\n",
    "customers ={}\n",
    "customers['tom'] = { 'Name': 'tom tom', 'Gender': 'Male', 'Nationality': 'US', 'car': 'Ford escort' }\n",
    "customers['Bob']= { 'Name': 'Bob tom', 'Gender': 'Male', 'Nationality': 'Canada', 'car': 'Honda escort' }\n",
    "customers['lisa']= { 'Name': 'Lisa tom', 'Gender': 'Female', 'Nationality': 'Germany', 'car': 'Audi' }\n",
    "\n"
   ]
  },
  {
   "cell_type": "code",
   "execution_count": 21,
   "metadata": {},
   "outputs": [
    {
     "name": "stdout",
     "output_type": "stream",
     "text": [
      "{'Bob': {'Gender': 'Male',\n",
      "         'Name': 'Bob tom',\n",
      "         'Nationality': 'Canada',\n",
      "         'car': 'Honda escort'},\n",
      " 'lisa': {'Gender': 'Female',\n",
      "          'Name': 'Lisa tom',\n",
      "          'Nationality': 'Germany',\n",
      "          'car': 'Audi'},\n",
      " 'tom': {'Gender': 'Male',\n",
      "         'Name': 'tom tom',\n",
      "         'Nationality': 'US',\n",
      "         'car': 'Ford escort'}}\n"
     ]
    }
   ],
   "source": [
    "import pprint\n",
    "pprint.pprint(customers)"
   ]
  },
  {
   "cell_type": "code",
   "execution_count": null,
   "metadata": {
    "collapsed": true
   },
   "outputs": [],
   "source": [
    "#access "
   ]
  }
 ],
 "metadata": {
  "kernelspec": {
   "display_name": "Python 3",
   "language": "python",
   "name": "python3"
  },
  "language_info": {
   "codemirror_mode": {
    "name": "ipython",
    "version": 3
   },
   "file_extension": ".py",
   "mimetype": "text/x-python",
   "name": "python",
   "nbconvert_exporter": "python",
   "pygments_lexer": "ipython3",
   "version": "3.6.3"
  }
 },
 "nbformat": 4,
 "nbformat_minor": 2
}
