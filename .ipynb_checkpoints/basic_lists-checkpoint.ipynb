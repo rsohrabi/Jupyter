{
 "cells": [
  {
   "cell_type": "code",
   "execution_count": 1,
   "metadata": {},
   "outputs": [
    {
     "name": "stdout",
     "output_type": "stream",
     "text": [
      "[1, 2, 3, 4]\n"
     ]
    }
   ],
   "source": [
    "#things with list\n",
    "my_list=[1,2,3,4]\n",
    "print(my_list)"
   ]
  },
  {
   "cell_type": "code",
   "execution_count": 2,
   "metadata": {},
   "outputs": [
    {
     "name": "stdout",
     "output_type": "stream",
     "text": [
      "2\n",
      "3\n"
     ]
    },
    {
     "data": {
      "text/plain": [
       "4"
      ]
     },
     "execution_count": 2,
     "metadata": {},
     "output_type": "execute_result"
    }
   ],
   "source": [
    "#support index notation\n",
    "print(my_list[1])\n",
    "print(my_list[-2])\n",
    "len(my_list)  #length of array (size)"
   ]
  },
  {
   "cell_type": "code",
   "execution_count": 8,
   "metadata": {},
   "outputs": [
    {
     "name": "stdout",
     "output_type": "stream",
     "text": [
      "[1, 2, 3, 'four', 'five']\n",
      "found 3\n"
     ]
    }
   ],
   "source": [
    "#contents of lists can be hetrogenous\n",
    "my_list=[1, 2, 3,'four','five']\n",
    "print(my_list)\n",
    "#search of contents\n",
    "if 3 in my_list:\n",
    "    print(\"found 3\")\n",
    "else:\n",
    "    print(\"did not find 3\")\n",
    "          "
   ]
  },
  {
   "cell_type": "code",
   "execution_count": 9,
   "metadata": {},
   "outputs": [
    {
     "name": "stdout",
     "output_type": "stream",
     "text": [
      "[1, 2, 3, 'four', 'five']\n",
      "did not find 6\n"
     ]
    }
   ],
   "source": [
    "# if value is missing, use append\n",
    "my_list=[1, 2, 3,'four','five']\n",
    "print(my_list)\n",
    "#search of contents\n",
    "if 6 in my_list:\n",
    "    print(\"found 6\")\n",
    "else:\n",
    "    print(\"did not find 6\")\n",
    "    my_list.append(6)"
   ]
  },
  {
   "cell_type": "code",
   "execution_count": 10,
   "metadata": {},
   "outputs": [
    {
     "name": "stdout",
     "output_type": "stream",
     "text": [
      "[1, 2, 3, 'four', 'five', 6]\n"
     ]
    }
   ],
   "source": [
    "print(my_list)\n"
   ]
  },
  {
   "cell_type": "code",
   "execution_count": 12,
   "metadata": {},
   "outputs": [
    {
     "name": "stdout",
     "output_type": "stream",
     "text": [
      "[1, 2, 3, 'four']\n"
     ]
    }
   ],
   "source": [
    "#remove from end\n",
    "my_list.pop()\n",
    "print(my_list)\n",
    "#remove from front\n",
    "my_list.remove(1)\n"
   ]
  },
  {
   "cell_type": "code",
   "execution_count": 13,
   "metadata": {},
   "outputs": [
    {
     "name": "stdout",
     "output_type": "stream",
     "text": [
      "[0, 2, 3, 'four']\n"
     ]
    }
   ],
   "source": [
    "#insert at the beginning\n",
    "my_list.insert(0,0)\n",
    "print(my_list)"
   ]
  },
  {
   "cell_type": "code",
   "execution_count": 14,
   "metadata": {},
   "outputs": [
    {
     "name": "stdout",
     "output_type": "stream",
     "text": [
      "[0, 2, 3, 'four', 7, 8, 9, 10]\n"
     ]
    }
   ],
   "source": [
    "#extend list by adding another list\n",
    "my_list.extend([7,8,9,10])\n",
    "print(my_list)"
   ]
  },
  {
   "cell_type": "code",
   "execution_count": 16,
   "metadata": {},
   "outputs": [
    {
     "name": "stdout",
     "output_type": "stream",
     "text": [
      "[0, 3, 7, 9]\n"
     ]
    }
   ],
   "source": [
    "#slices\n",
    "new_list = my_list[0:8:2]\n",
    "print(new_list)"
   ]
  },
  {
   "cell_type": "code",
   "execution_count": 18,
   "metadata": {},
   "outputs": [
    {
     "name": "stdout",
     "output_type": "stream",
     "text": [
      "[2, 'four', 8]\n"
     ]
    }
   ],
   "source": [
    "new_slice = my_list[1:7:2]\n",
    "print(new_slice)"
   ]
  },
  {
   "cell_type": "code",
   "execution_count": 20,
   "metadata": {},
   "outputs": [
    {
     "name": "stdout",
     "output_type": "stream",
     "text": [
      "enter a sentence:hellow from jupyter\n"
     ]
    },
    {
     "data": {
      "text/plain": [
       "'hellow from jupyter'"
      ]
     },
     "execution_count": 20,
     "metadata": {},
     "output_type": "execute_result"
    }
   ],
   "source": [
    "user_input = input(\"enter a sentence:\")\n",
    "user_input"
   ]
  },
  {
   "cell_type": "code",
   "execution_count": 21,
   "metadata": {},
   "outputs": [
    {
     "name": "stdout",
     "output_type": "stream",
     "text": [
      "retypuj morf wolleh\n"
     ]
    }
   ],
   "source": [
    "#reverse input\n",
    "print(user_input[::-1])"
   ]
  },
  {
   "cell_type": "code",
   "execution_count": 22,
   "metadata": {},
   "outputs": [
    {
     "name": "stdout",
     "output_type": "stream",
     "text": [
      "ellow \n"
     ]
    }
   ],
   "source": [
    "print(user_input[1:7])"
   ]
  },
  {
   "cell_type": "code",
   "execution_count": 23,
   "metadata": {},
   "outputs": [
    {
     "name": "stdout",
     "output_type": "stream",
     "text": [
      "hlo rmjptr\n"
     ]
    }
   ],
   "source": [
    "#get every alternate of input\n",
    "print(user_input[::2])"
   ]
  },
  {
   "cell_type": "code",
   "execution_count": null,
   "metadata": {
    "collapsed": true
   },
   "outputs": [],
   "source": []
  }
 ],
 "metadata": {
  "kernelspec": {
   "display_name": "Python 3",
   "language": "python",
   "name": "python3"
  },
  "language_info": {
   "codemirror_mode": {
    "name": "ipython",
    "version": 3
   },
   "file_extension": ".py",
   "mimetype": "text/x-python",
   "name": "python",
   "nbconvert_exporter": "python",
   "pygments_lexer": "ipython3",
   "version": "3.6.3"
  }
 },
 "nbformat": 4,
 "nbformat_minor": 2
}
